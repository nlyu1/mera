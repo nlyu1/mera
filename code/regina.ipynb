{
 "cells": [
  {
   "cell_type": "code",
   "execution_count": 1,
   "metadata": {},
   "outputs": [],
   "source": [
    "import regina"
   ]
  },
  {
   "cell_type": "code",
   "execution_count": 5,
   "metadata": {},
   "outputs": [
    {
     "ename": "AttributeError",
     "evalue": "type object 'regina.engine.Census' has no attribute 'load'",
     "output_type": "error",
     "traceback": [
      "\u001b[0;31m---------------------------------------------------------------------------\u001b[0m",
      "\u001b[0;31mAttributeError\u001b[0m                            Traceback (most recent call last)",
      "Cell \u001b[0;32mIn[5], line 2\u001b[0m\n\u001b[1;32m      1\u001b[0m \u001b[38;5;66;03m# Load the closed orientable census\u001b[39;00m\n\u001b[0;32m----> 2\u001b[0m census \u001b[38;5;241m=\u001b[39m \u001b[43mregina\u001b[49m\u001b[38;5;241;43m.\u001b[39;49m\u001b[43mCensus\u001b[49m\u001b[38;5;241;43m.\u001b[39;49m\u001b[43mload\u001b[49m(\u001b[38;5;124m\"\u001b[39m\u001b[38;5;124m./closed-hyp-census-full.rga\u001b[39m\u001b[38;5;124m\"\u001b[39m)\n",
      "\u001b[0;31mAttributeError\u001b[0m: type object 'regina.engine.Census' has no attribute 'load'"
     ]
    }
   ],
   "source": [
    "census = regina.Census.load(\"./closed-hyp-census-full.rga\")"
   ]
  },
  {
   "cell_type": "code",
   "execution_count": 2,
   "metadata": {},
   "outputs": [
    {
     "ename": "AttributeError",
     "evalue": "module 'regina' has no attribute 'NLensSpace'",
     "output_type": "error",
     "traceback": [
      "\u001b[0;31m---------------------------------------------------------------------------\u001b[0m",
      "\u001b[0;31mAttributeError\u001b[0m                            Traceback (most recent call last)",
      "Cell \u001b[0;32mIn[2], line 2\u001b[0m\n\u001b[1;32m      1\u001b[0m \u001b[38;5;66;03m# Create a lens space L(5,2)\u001b[39;00m\n\u001b[0;32m----> 2\u001b[0m L \u001b[38;5;241m=\u001b[39m \u001b[43mregina\u001b[49m\u001b[38;5;241;43m.\u001b[39;49m\u001b[43mNLensSpace\u001b[49m(\u001b[38;5;241m5\u001b[39m, \u001b[38;5;241m2\u001b[39m)\n\u001b[1;32m      3\u001b[0m tri \u001b[38;5;241m=\u001b[39m L\u001b[38;5;241m.\u001b[39mtriangulation()\n\u001b[1;32m      5\u001b[0m \u001b[38;5;66;03m# Get the fundamental group\u001b[39;00m\n",
      "\u001b[0;31mAttributeError\u001b[0m: module 'regina' has no attribute 'NLensSpace'"
     ]
    }
   ],
   "source": [
    "# Get the first manifold in the census\n",
    "manifold = census.triangulation(0)\n",
    "\n",
    "# Compute the fundamental group\n",
    "fund_group = manifold.fundamentalGroup()\n",
    "\n",
    "# Simplify the group presentation\n",
    "fund_group.simplify()\n",
    "\n",
    "# Print the simplified fundamental group presentation\n",
    "print(fund_group)"
   ]
  },
  {
   "cell_type": "code",
   "execution_count": null,
   "metadata": {},
   "outputs": [],
   "source": []
  }
 ],
 "metadata": {
  "kernelspec": {
   "display_name": "js-env",
   "language": "python",
   "name": "python3"
  },
  "language_info": {
   "codemirror_mode": {
    "name": "ipython",
    "version": 3
   },
   "file_extension": ".py",
   "mimetype": "text/x-python",
   "name": "python",
   "nbconvert_exporter": "python",
   "pygments_lexer": "ipython3",
   "version": "3.10.16"
  }
 },
 "nbformat": 4,
 "nbformat_minor": 2
}
