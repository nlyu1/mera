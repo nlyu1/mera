{
 "cells": [
  {
   "cell_type": "code",
   "execution_count": 2,
   "metadata": {},
   "outputs": [],
   "source": [
    "import numpy as np \n",
    "import torch \n",
    "import math\n",
    "import matplotlib.pyplot as plt"
   ]
  },
  {
   "cell_type": "code",
   "execution_count": 67,
   "metadata": {},
   "outputs": [],
   "source": [
    "def kron(X):\n",
    "    ans = X[0]\n",
    "    for x in X[1:]: \n",
    "        ans = torch.kron(ans.contiguous(), x)\n",
    "    # print(len(X), [x.shape for x in X])\n",
    "    return ans \n",
    "\n",
    "Adj = lambda x: x.transpose(-1, -2).conj()\n",
    "\n",
    "class PfSystem:\n",
    "    def __init__(self, p, n):\n",
    "        self.p = p \n",
    "        self.n = n\n",
    "        self.omega = np.exp(1j * 2 * math.pi / p)\n",
    "        self.X = torch.zeros([p, p], dtype=torch.complex64)\n",
    "        self.Z = torch.zeros([p, p], dtype=torch.complex64)\n",
    "        for j in range(p):\n",
    "            self.X[j, (j+1)%p] = 1 \n",
    "            self.Z[j, j] = self.omega ** j\n",
    "        self.Id = torch.eye(p)\n",
    "\n",
    "        self.generators = []\n",
    "        for j in range(n):\n",
    "            Gammaj = kron(\n",
    "                [self.Z] * j + [self.X] \n",
    "                + [self.Id] * (self.n - 1 - j)\n",
    "            )\n",
    "            Deltaj = kron(\n",
    "                [self.Z] * j + [self.X @ self.Z] \n",
    "                + [self.Id] * (self.n - 1 - j)\n",
    "            )\n",
    "            print(Gammaj.shape, Deltaj.shape)\n",
    "            self.generators.append(Gammaj)\n",
    "            self.generators.append(Deltaj)\n",
    "\n",
    "    def __call__(self, i):\n",
    "        if i == 0:\n",
    "            return kron([self.Id] * self.n)\n",
    "        return self.generators[i - 1]"
   ]
  },
  {
   "cell_type": "code",
   "execution_count": 70,
   "metadata": {},
   "outputs": [
    {
     "name": "stdout",
     "output_type": "stream",
     "text": [
      "torch.Size([9, 9]) torch.Size([9, 9])\n",
      "torch.Size([9, 9]) torch.Size([9, 9])\n"
     ]
    },
    {
     "data": {
      "text/plain": [
       "True"
      ]
     },
     "execution_count": 70,
     "metadata": {},
     "output_type": "execute_result"
    }
   ],
   "source": [
    "S = PfSystem(3, 2)\n",
    "bracket = lambda a, b: a @ b - b @ a\n",
    "torch.allclose(\n",
    "    np.conj(S.omega) * S(1) @ S(2), S(2) @ S(1)\n",
    ")"
   ]
  },
  {
   "cell_type": "code",
   "execution_count": 71,
   "metadata": {},
   "outputs": [
    {
     "data": {
      "text/plain": [
       "True"
      ]
     },
     "execution_count": 71,
     "metadata": {},
     "output_type": "execute_result"
    }
   ],
   "source": [
    "torch.allclose(\n",
    "    bracket(\n",
    "        S(1) @ torch.matrix_power(S(2), 2), \n",
    "        S(2) @ torch.matrix_power(S(3), 2)\n",
    "    ), (1 - S.omega ** 2) * S(1) @ torch.matrix_power(S(3), 2)\n",
    ")"
   ]
  },
  {
   "cell_type": "code",
   "execution_count": null,
   "metadata": {},
   "outputs": [
    {
     "name": "stdout",
     "output_type": "stream",
     "text": [
      "torch.Size([3, 3]) torch.Size([3, 3])\n"
     ]
    },
    {
     "data": {
      "text/plain": [
       "tensor([[ 0.0000+0.0000j, -0.5000+0.8660j,  0.0000+0.0000j],\n",
       "        [ 0.0000+0.0000j,  0.0000+0.0000j, -0.5000-0.8660j],\n",
       "        [ 1.0000+0.0000j,  0.0000+0.0000j,  0.0000+0.0000j]])"
      ]
     },
     "execution_count": 75,
     "metadata": {},
     "output_type": "execute_result"
    }
   ],
   "source": [
    "Sp = PfSystem(3, 1)\n",
    "Sp(1)"
   ]
  },
  {
   "cell_type": "code",
   "execution_count": null,
   "metadata": {},
   "outputs": [],
   "source": []
  }
 ],
 "metadata": {
  "kernelspec": {
   "display_name": "base",
   "language": "python",
   "name": "python3"
  },
  "language_info": {
   "codemirror_mode": {
    "name": "ipython",
    "version": 3
   },
   "file_extension": ".py",
   "mimetype": "text/x-python",
   "name": "python",
   "nbconvert_exporter": "python",
   "pygments_lexer": "ipython3",
   "version": "3.10.9"
  }
 },
 "nbformat": 4,
 "nbformat_minor": 2
}
