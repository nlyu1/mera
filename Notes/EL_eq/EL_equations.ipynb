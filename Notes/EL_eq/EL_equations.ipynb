{
 "cells": [
  {
   "cell_type": "code",
   "execution_count": 1,
   "metadata": {},
   "outputs": [],
   "source": [
    "from sympy import symbols, Function, diff, simplify\n",
    "from sympy.abc import t"
   ]
  },
  {
   "cell_type": "code",
   "execution_count": 24,
   "metadata": {},
   "outputs": [
    {
     "data": {
      "text/latex": [
       "$\\displaystyle \\frac{2 x{\\left(t \\right)} \\left(\\frac{d}{d t} x{\\left(t \\right)}\\right)^{2}}{x^{2}{\\left(t \\right)} + y^{2}{\\left(t \\right)} - 1} - \\frac{2 x{\\left(t \\right)} \\left(\\frac{d}{d t} y{\\left(t \\right)}\\right)^{2}}{x^{2}{\\left(t \\right)} + y^{2}{\\left(t \\right)} - 1} + \\frac{4 y{\\left(t \\right)} \\frac{d}{d t} x{\\left(t \\right)} \\frac{d}{d t} y{\\left(t \\right)}}{x^{2}{\\left(t \\right)} + y^{2}{\\left(t \\right)} - 1}$"
      ],
      "text/plain": [
       "2*x(t)*Derivative(x(t), t)**2/(x(t)**2 + y(t)**2 - 1) - 2*x(t)*Derivative(y(t), t)**2/(x(t)**2 + y(t)**2 - 1) + 4*y(t)*Derivative(x(t), t)*Derivative(y(t), t)/(x(t)**2 + y(t)**2 - 1)"
      ]
     },
     "execution_count": 24,
     "metadata": {},
     "output_type": "execute_result"
    }
   ],
   "source": [
    "from sympy import symbols, Function, diff, simplify, solve\n",
    "\n",
    "# Define the variables and functions\n",
    "t = symbols('t')\n",
    "x = Function('x')(t)\n",
    "y = Function('y')(t)\n",
    "xdot = diff(x, t)\n",
    "ydot = diff(y, t)\n",
    "\n",
    "# Define the Lagrangian\n",
    "L = (2 * (xdot**2 + ydot**2)) / (1 - x**2 - y**2)**2\n",
    "\n",
    "# Compute the partial derivatives\n",
    "dL_dx = diff(L, x)\n",
    "dL_dy = diff(L, y)\n",
    "dL_dxdot = diff(L, xdot)\n",
    "dL_dydot = diff(L, ydot)\n",
    "\n",
    "# Compute the time derivatives\n",
    "d_dt_dL_dxdot = diff(dL_dxdot, t)\n",
    "d_dt_dL_dydot = diff(dL_dydot, t)\n",
    "\n",
    "# Set up the Euler-Lagrange equations\n",
    "eq1 = simplify(d_dt_dL_dxdot - dL_dx)\n",
    "eq2 = simplify(d_dt_dL_dydot - dL_dy)\n",
    "\n",
    "# Solve for the second derivatives (xddot and yddot)\n",
    "xddot = diff(x, t, t)  # Represents the second derivative of x with respect to t\n",
    "yddot = diff(y, t, t)  # Represents the second derivative of y with respect to t\n",
    "\n",
    "# Solve the equations eq1 = 0 and eq2 = 0 for xddot and yddot\n",
    "solutions = solve([eq1, eq2], (xddot, yddot))\n",
    "\n",
    "solutions[xddot]"
   ]
  },
  {
   "cell_type": "code",
   "execution_count": 25,
   "metadata": {},
   "outputs": [
    {
     "data": {
      "text/latex": [
       "$\\displaystyle \\frac{4 x{\\left(t \\right)} \\frac{d}{d t} x{\\left(t \\right)} \\frac{d}{d t} y{\\left(t \\right)}}{x^{2}{\\left(t \\right)} + y^{2}{\\left(t \\right)} - 1} - \\frac{2 y{\\left(t \\right)} \\left(\\frac{d}{d t} x{\\left(t \\right)}\\right)^{2}}{x^{2}{\\left(t \\right)} + y^{2}{\\left(t \\right)} - 1} + \\frac{2 y{\\left(t \\right)} \\left(\\frac{d}{d t} y{\\left(t \\right)}\\right)^{2}}{x^{2}{\\left(t \\right)} + y^{2}{\\left(t \\right)} - 1}$"
      ],
      "text/plain": [
       "4*x(t)*Derivative(x(t), t)*Derivative(y(t), t)/(x(t)**2 + y(t)**2 - 1) - 2*y(t)*Derivative(x(t), t)**2/(x(t)**2 + y(t)**2 - 1) + 2*y(t)*Derivative(y(t), t)**2/(x(t)**2 + y(t)**2 - 1)"
      ]
     },
     "execution_count": 25,
     "metadata": {},
     "output_type": "execute_result"
    }
   ],
   "source": [
    "solutions[yddot]"
   ]
  },
  {
   "cell_type": "code",
   "execution_count": null,
   "metadata": {},
   "outputs": [],
   "source": []
  }
 ],
 "metadata": {
  "kernelspec": {
   "display_name": "base",
   "language": "python",
   "name": "python3"
  },
  "language_info": {
   "codemirror_mode": {
    "name": "ipython",
    "version": 3
   },
   "file_extension": ".py",
   "mimetype": "text/x-python",
   "name": "python",
   "nbconvert_exporter": "python",
   "pygments_lexer": "ipython3",
   "version": "3.10.9"
  }
 },
 "nbformat": 4,
 "nbformat_minor": 2
}
